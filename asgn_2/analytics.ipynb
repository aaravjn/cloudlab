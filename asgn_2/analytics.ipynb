{
 "cells": [
  {
   "cell_type": "code",
   "execution_count": 19,
   "metadata": {},
   "outputs": [],
   "source": [
    "import json\n",
    "import numpy as np\n",
    "import matplotlib.pyplot as plt"
   ]
  },
  {
   "cell_type": "code",
   "execution_count": 26,
   "metadata": {},
   "outputs": [],
   "source": [
    "f = open('execution_data.json')\n",
    "json_data  = json.load(f)\n",
    "\n",
    "f.close()\n",
    "# execution_times = np.array([thread[\"execution time\"] for thread in json_data[\"Threads\"]])"
   ]
  },
  {
   "cell_type": "code",
   "execution_count": 27,
   "metadata": {},
   "outputs": [
    {
     "name": "stdout",
     "output_type": "stream",
     "text": [
      "344\n"
     ]
    },
    {
     "data": {
      "text/plain": [
       "Text(0,0.5,'Average Throughput')"
      ]
     },
     "execution_count": 27,
     "metadata": {},
     "output_type": "execute_result"
    },
    {
     "data": {
      "image/png": "[encoded data removed]",
      "text/plain": [
       "<Figure size 432x288 with 1 Axes>"
      ]
     },
     "metadata": {
      "needs_background": "light"
     },
     "output_type": "display_data"
    }
   ],
   "source": [
    "#execution benchmark\n",
    "# thread_under_execution = np.array([])\n",
    "# for threads in json_data[\"Threads\"]:\n",
    "#     if \"thread\" in threads:\n",
    "#         thread_under_execution = np.append(thread_under_execution,threads[\"thread\"])\n",
    "#     else:\n",
    "#         thread_under_execution = np.append(thread_under_execution,\"NULL\")\n",
    "# # print(thread_under_execution)\n",
    "# # thread_under_execution = np.array([thread[\"thread\"] for thread in json_data[\"Threads\"]])\n",
    "# unique_threads = np.unique(thread_under_execution)\n",
    "# unique_threads = np.delete(unique_threads, np.where(unique_threads == \"NULL\"))\n",
    "# print(unique_threads)\n",
    "# throughput = np.zeros(len(unique_threads))\n",
    "# for threads in json_data[\"Threads\"]:\n",
    "#     if \"exitedThread\" in threads:\n",
    "#         time = threads[\"time\"]\n",
    "#         exitedThread = threads[\"exitedThread\"]\n",
    "#         i = np.where(unique_threads == exitedThread)[0][0];\n",
    "#         throughput[i] = process_time*1000/time\n",
    "# print(throughput)\n",
    "# plt.bar(unique_threads, throughput)\n",
    "# plt.xlabel(\"Thread\")\n",
    "# plt.ylabel(\"Overall Throughput\")\n",
    "\n",
    "\n",
    "\n",
    "thread_data = {}\n",
    "for data in json_data[\"Threads\"]:\n",
    "    thread = data[\"thread\"].split()[1]\n",
    "    if \"exitedThread\" in data:\n",
    "        break\n",
    "    if thread not in thread_data:\n",
    "        thread_data[thread] = {\n",
    "            \"time_of_last_execution\": data[\"time\"],\n",
    "            \"weight\": data[\"weight\"],\n",
    "            \"no_of_executions\": 0\n",
    "        }\n",
    "    \n",
    "    thread_data[thread][\"time_of_last_execution\"] = data['time']\n",
    "    thread_data[thread][\"no_of_executions\"] += 1\n",
    " \n",
    "finish_time = 0\n",
    "for thread in thread_data:\n",
    "    finish_time = max(finish_time, thread_data[thread][\"time_of_last_execution\"])\n",
    "\n",
    "print(finish_time)\n",
    "\n",
    "\n",
    "unique_threads = []\n",
    "throughput = []\n",
    "for thread in thread_data:\n",
    "    unique_threads.append(thread)\n",
    "    throughput.append(thread_data[thread][\"no_of_executions\"] * 1000 / finish_time)\n",
    "    \n",
    "plt.bar(unique_threads, throughput)\n",
    "plt.xlabel(\"Thread\")\n",
    "plt.ylabel(\"Average Throughput\")\n"
   ]
  },
  {
   "cell_type": "code",
   "execution_count": 28,
   "metadata": {},
   "outputs": [
    {
     "name": "stdout",
     "output_type": "stream",
     "text": [
      "[0, 20, 40, 60, 80, 100, 120, 140, 160, 180, 200, 220, 240, 260, 280, 300, 320, 340, 360, 380, 400, 420, 440, 460]\n"
     ]
    },
    {
     "data": {
      "image/png": "[encoded data removed]",
      "text/plain": [
       "<Figure size 432x288 with 1 Axes>"
      ]
     },
     "metadata": {
      "needs_background": "light"
     },
     "output_type": "display_data"
    },
    {
     "name": "stdout",
     "output_type": "stream",
     "text": [
      "{'A': [0, 200, 200, 200, 200, 200, 200, 200, 200, 200, 200, 200, 200, 200, 200, 200, 200, 200, 100, 0, 0, 0, 0, 0], 'B': [0, 200, 200, 200, 200, 200, 200, 200, 200, 200, 200, 200, 200, 200, 200, 200, 200, 200, 250, 250, 100, 0, 0, 0], 'C': [0, 200, 200, 200, 200, 200, 200, 200, 200, 200, 200, 200, 200, 200, 200, 200, 200, 200, 250, 250, 300, 300, 0, 0], 'D': [0, 200, 200, 200, 200, 200, 200, 200, 200, 200, 200, 200, 200, 200, 200, 200, 200, 200, 200, 250, 300, 350, 500, 0], 'E': [0, 200, 200, 200, 200, 200, 200, 200, 200, 200, 200, 200, 200, 200, 200, 200, 200, 200, 200, 250, 300, 350, 500, 0]}\n"
     ]
    }
   ],
   "source": [
    "# process_time = 100\n",
    "# time_array = np.array([thread[\"time\"] for thread in json_data[\"Threads\"]])\n",
    "\n",
    "# num_threads_till_time_t = []\n",
    "# for unique_thread in unique_threads:\n",
    "#   num_threads_till_time_t.append(np.zeros(len(json_data[\"Threads\"])))\n",
    "# for time in range(len(json_data[\"Threads\"])):\n",
    "#   for unique_thread_index in range(len(unique_threads)):\n",
    "#     if \"thread\" in json_data[\"Threads\"][time]:\n",
    "#       if json_data[\"Threads\"][time][\"thread\"] == unique_threads[unique_thread_index]:\n",
    "#         num_threads_till_time_t[unique_thread_index][time] += 1\n",
    "\n",
    "# # Slicing time array for better readability \n",
    "# # equal : [10:40]\n",
    "# # priority : [10:30]\n",
    "# time_array = time_array[10:30]\n",
    "\n",
    "# #Calculating Throughput\n",
    "# num_array=1;\n",
    "# for array in num_threads_till_time_t:\n",
    "#   count=0;\n",
    "#   for i in range(len(array)):\n",
    "#     if array[i]==1:\n",
    "#       count+=1\n",
    "#       array[i] = (count*process_time*1000)/(i+1)\n",
    "#     if array[i]==0:\n",
    "#       array[i] = (count*process_time*1000)/(i+1)\n",
    "#   array = array[10:30]\n",
    "#   plt.plot(time_array,array, label=f\"Thread {num_array}\")\n",
    "#   num_array+=1\n",
    "\n",
    "# # Graph attributes\n",
    "# # equal : (0,10000,1000)\n",
    "# #priority : (0,8000,500)\n",
    "# plt.yticks(np.arange(0, 8000, 500))\n",
    "# plt.xlabel(\"Time\")\n",
    "# plt.ylabel(\"Throughput\")\n",
    "# plt.legend()\n",
    "# plt.show()\n",
    "\n",
    "\n",
    "thread_data = {}\n",
    "thread_throughput_data = {}\n",
    "for thread in unique_threads:\n",
    "    thread_throughput_data[thread] = [0]*100\n",
    "i = 0\n",
    "\n",
    "\n",
    "for data in json_data[\"Threads\"]:\n",
    "    if data[\"time\"] % 20 == 0:\n",
    "        for thread in thread_data:\n",
    "            thread_throughput_data[thread][i] = thread_data[thread][\n",
    "                \"no_of_execution\"\n",
    "            ] * 50\n",
    "        i += 1\n",
    "        thread_data.clear()\n",
    "        \n",
    "    thread = data[\"thread\"].split()[1]\n",
    "    \n",
    "    if thread not in thread_data:\n",
    "        thread_data[thread] = {\n",
    "            \"no_of_execution\": 1,\n",
    "            \"first_execution_time\": data[\"time\"],\n",
    "            \"last_execution_time\": data[\"time\"]\n",
    "        }\n",
    "    else:\n",
    "        thread_data[thread][\"no_of_execution\"] += 1\n",
    "        thread_data[thread][\"last_execution_time\"] = data[\"time\"]\n",
    "        \n",
    "time = 0\n",
    "time_array = []\n",
    "for j in range(i+1):\n",
    "    time_array.append(20 * j)\n",
    "print(time_array)\n",
    "    \n",
    "for thread in thread_throughput_data:\n",
    "    thread_throughput_data[thread] = thread_throughput_data[thread][:i+1]\n",
    "    plt.plot(time_array, thread_throughput_data[thread], label=f\"Thread {thread}\")\n",
    "\n",
    "plt.ylabel(\"Throughput\")\n",
    "plt.xlabel(\"Time\")\n",
    "plt.legend()\n",
    "plt.show()\n",
    "\n",
    "print(thread_throughput_data)"
   ]
  },
  {
   "cell_type": "code",
   "execution_count": null,
   "metadata": {},
   "outputs": [],
   "source": [
    "\n",
    "\n"
   ]
  }
 ],
 "metadata": {
  "kernelspec": {
   "display_name": "Python 3",
   "language": "python",
   "name": "python3"
  },
  "language_info": {
   "codemirror_mode": {
    "name": "ipython",
    "version": 3
   },
   "file_extension": ".py",
   "mimetype": "text/x-python",
   "name": "python",
   "nbconvert_exporter": "python",
   "pygments_lexer": "ipython3",
   "version": "3.7.0"
  }
 },
 "nbformat": 4,
 "nbformat_minor": 2
}
